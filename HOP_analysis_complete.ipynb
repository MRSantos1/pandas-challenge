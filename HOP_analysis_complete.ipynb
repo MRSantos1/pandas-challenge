{
 "cells": [
  {
   "cell_type": "markdown",
   "metadata": {},
   "source": [
    "Heroes Of Pymoli Data Analysis \n",
    "-----"
   ]
  },
  {
   "cell_type": "code",
   "execution_count": 228,
   "metadata": {},
   "outputs": [
    {
     "data": {
      "text/html": [
       "<div>\n",
       "<style scoped>\n",
       "    .dataframe tbody tr th:only-of-type {\n",
       "        vertical-align: middle;\n",
       "    }\n",
       "\n",
       "    .dataframe tbody tr th {\n",
       "        vertical-align: top;\n",
       "    }\n",
       "\n",
       "    .dataframe thead th {\n",
       "        text-align: right;\n",
       "    }\n",
       "</style>\n",
       "<table border=\"1\" class=\"dataframe\">\n",
       "  <thead>\n",
       "    <tr style=\"text-align: right;\">\n",
       "      <th></th>\n",
       "      <th>Purchase ID</th>\n",
       "      <th>SN</th>\n",
       "      <th>Age</th>\n",
       "      <th>Gender</th>\n",
       "      <th>Item ID</th>\n",
       "      <th>Item Name</th>\n",
       "      <th>Price</th>\n",
       "    </tr>\n",
       "  </thead>\n",
       "  <tbody>\n",
       "    <tr>\n",
       "      <th>0</th>\n",
       "      <td>0</td>\n",
       "      <td>Lisim78</td>\n",
       "      <td>20</td>\n",
       "      <td>Male</td>\n",
       "      <td>108</td>\n",
       "      <td>Extraction, Quickblade Of Trembling Hands</td>\n",
       "      <td>3.53</td>\n",
       "    </tr>\n",
       "    <tr>\n",
       "      <th>1</th>\n",
       "      <td>1</td>\n",
       "      <td>Lisovynya38</td>\n",
       "      <td>40</td>\n",
       "      <td>Male</td>\n",
       "      <td>143</td>\n",
       "      <td>Frenzied Scimitar</td>\n",
       "      <td>1.56</td>\n",
       "    </tr>\n",
       "    <tr>\n",
       "      <th>2</th>\n",
       "      <td>2</td>\n",
       "      <td>Ithergue48</td>\n",
       "      <td>24</td>\n",
       "      <td>Male</td>\n",
       "      <td>92</td>\n",
       "      <td>Final Critic</td>\n",
       "      <td>4.88</td>\n",
       "    </tr>\n",
       "    <tr>\n",
       "      <th>3</th>\n",
       "      <td>3</td>\n",
       "      <td>Chamassasya86</td>\n",
       "      <td>24</td>\n",
       "      <td>Male</td>\n",
       "      <td>100</td>\n",
       "      <td>Blindscythe</td>\n",
       "      <td>3.27</td>\n",
       "    </tr>\n",
       "    <tr>\n",
       "      <th>4</th>\n",
       "      <td>4</td>\n",
       "      <td>Iskosia90</td>\n",
       "      <td>23</td>\n",
       "      <td>Male</td>\n",
       "      <td>131</td>\n",
       "      <td>Fury</td>\n",
       "      <td>1.44</td>\n",
       "    </tr>\n",
       "  </tbody>\n",
       "</table>\n",
       "</div>"
      ],
      "text/plain": [
       "   Purchase ID             SN  Age Gender  Item ID  \\\n",
       "0            0        Lisim78   20   Male      108   \n",
       "1            1    Lisovynya38   40   Male      143   \n",
       "2            2     Ithergue48   24   Male       92   \n",
       "3            3  Chamassasya86   24   Male      100   \n",
       "4            4      Iskosia90   23   Male      131   \n",
       "\n",
       "                                   Item Name  Price  \n",
       "0  Extraction, Quickblade Of Trembling Hands   3.53  \n",
       "1                          Frenzied Scimitar   1.56  \n",
       "2                               Final Critic   4.88  \n",
       "3                                Blindscythe   3.27  \n",
       "4                                       Fury   1.44  "
      ]
     },
     "execution_count": 228,
     "metadata": {},
     "output_type": "execute_result"
    }
   ],
   "source": [
    "# Dependencies and Setup\n",
    "import pandas as pd\n",
    "import numpy as np\n",
    "\n",
    "# File to Load (Remember to Change These)\n",
    "file_to_load = \"Resources/purchase_data.csv\"\n",
    "\n",
    "# Read Purchasing File and store into Pandas data frame\n",
    "purchase_data_df = pd.read_csv(file_to_load)\n",
    "purchase_data_df.head()"
   ]
  },
  {
   "cell_type": "markdown",
   "metadata": {},
   "source": [
    "## Player Count"
   ]
  },
  {
   "cell_type": "code",
   "execution_count": 229,
   "metadata": {},
   "outputs": [
    {
     "data": {
      "text/html": [
       "<div>\n",
       "<style scoped>\n",
       "    .dataframe tbody tr th:only-of-type {\n",
       "        vertical-align: middle;\n",
       "    }\n",
       "\n",
       "    .dataframe tbody tr th {\n",
       "        vertical-align: top;\n",
       "    }\n",
       "\n",
       "    .dataframe thead th {\n",
       "        text-align: right;\n",
       "    }\n",
       "</style>\n",
       "<table border=\"1\" class=\"dataframe\">\n",
       "  <thead>\n",
       "    <tr style=\"text-align: right;\">\n",
       "      <th></th>\n",
       "      <th>Total Players</th>\n",
       "    </tr>\n",
       "  </thead>\n",
       "  <tbody>\n",
       "    <tr>\n",
       "      <th>0</th>\n",
       "      <td>576</td>\n",
       "    </tr>\n",
       "  </tbody>\n",
       "</table>\n",
       "</div>"
      ],
      "text/plain": [
       "   Total Players\n",
       "0            576"
      ]
     },
     "execution_count": 229,
     "metadata": {},
     "output_type": "execute_result"
    }
   ],
   "source": [
    "#player_count = purchase_data_df['SN'].value.counts()\n",
    "#player_count\n",
    "total_Players = len(purchase_data_df['SN'].value_counts())\n",
    "Total_Players = pd.DataFrame({\"Total Players\": total_players}, index=[0])\n",
    "Total_Players"
   ]
  },
  {
   "cell_type": "markdown",
   "metadata": {},
   "source": [
    "## Purchasing Analysis (Total)"
   ]
  },
  {
   "cell_type": "code",
   "execution_count": 230,
   "metadata": {
    "scrolled": true
   },
   "outputs": [
    {
     "data": {
      "text/html": [
       "<div>\n",
       "<style scoped>\n",
       "    .dataframe tbody tr th:only-of-type {\n",
       "        vertical-align: middle;\n",
       "    }\n",
       "\n",
       "    .dataframe tbody tr th {\n",
       "        vertical-align: top;\n",
       "    }\n",
       "\n",
       "    .dataframe thead th {\n",
       "        text-align: right;\n",
       "    }\n",
       "</style>\n",
       "<table border=\"1\" class=\"dataframe\">\n",
       "  <thead>\n",
       "    <tr style=\"text-align: right;\">\n",
       "      <th></th>\n",
       "      <th>Number of Unique Items</th>\n",
       "      <th>Average Item Price</th>\n",
       "      <th>Number of Purchases</th>\n",
       "      <th>Total Item Revenue</th>\n",
       "    </tr>\n",
       "  </thead>\n",
       "  <tbody>\n",
       "    <tr>\n",
       "      <th>0</th>\n",
       "      <td>179</td>\n",
       "      <td>$3.05</td>\n",
       "      <td>780</td>\n",
       "      <td>$2,379.77</td>\n",
       "    </tr>\n",
       "  </tbody>\n",
       "</table>\n",
       "</div>"
      ],
      "text/plain": [
       "   Number of Unique Items Average Item Price  Number of Purchases  \\\n",
       "0                     179              $3.05                  780   \n",
       "\n",
       "  Total Item Revenue  \n",
       "0          $2,379.77  "
      ]
     },
     "execution_count": 230,
     "metadata": {},
     "output_type": "execute_result"
    }
   ],
   "source": [
    "#Creating Number of Unique items, Average Purchase, Total Revenue, and number of purchases\n",
    "\n",
    "UniqueItems = len(purchase_data_df['Item Name'].value_counts())\n",
    "AveragePrice = np.round(purchase_data_df['Price'].mean(), decimals=2)\n",
    "NumberPurchases = purchase_data_df['Item ID'].count()\n",
    "TotalRevenue = purchase_data_df['Price'].sum()\n",
    "\n",
    "#Creating Data Frame\n",
    "PurchasingAnalysis_df = pd.DataFrame({\n",
    "    \"Number of Unique Items\": [UniqueItems],\n",
    "    \"Average Item Price\": [AveragePrice],\n",
    "    \"Number of Purchases\": [NumberPurchases],\n",
    "    \"Total Item Revenue\": [TotalRevenue],\n",
    "})\n",
    "\n",
    "#Data Cleanup\n",
    "PurchasingAnalysis_df = PurchasingAnalysis_df[[\"Number of Unique Items\" , \"Average Item Price\" , \n",
    "                                               \"Number of Purchases\" , \"Total Item Revenue\"]]\n",
    "PurchasingAnalysis_df[\"Average Item Price\"] = PurchasingAnalysis_df[\"Average Item Price\"].map(\"${0:,.2f}\".format)\n",
    "PurchasingAnalysis_df[\"Total Item Revenue\"] = PurchasingAnalysis_df[\"Total Item Revenue\"].map(\"${0:,.2f}\".format)\n",
    "\n",
    "PurchasingAnalysis_df\n"
   ]
  },
  {
   "cell_type": "markdown",
   "metadata": {},
   "source": [
    "## Gender Demographics"
   ]
  },
  {
   "cell_type": "code",
   "execution_count": 231,
   "metadata": {},
   "outputs": [
    {
     "data": {
      "text/html": [
       "<div>\n",
       "<style scoped>\n",
       "    .dataframe tbody tr th:only-of-type {\n",
       "        vertical-align: middle;\n",
       "    }\n",
       "\n",
       "    .dataframe tbody tr th {\n",
       "        vertical-align: top;\n",
       "    }\n",
       "\n",
       "    .dataframe thead th {\n",
       "        text-align: right;\n",
       "    }\n",
       "</style>\n",
       "<table border=\"1\" class=\"dataframe\">\n",
       "  <thead>\n",
       "    <tr style=\"text-align: right;\">\n",
       "      <th></th>\n",
       "      <th>Total Count</th>\n",
       "      <th>Percentage of Players</th>\n",
       "    </tr>\n",
       "  </thead>\n",
       "  <tbody>\n",
       "    <tr>\n",
       "      <th>Female</th>\n",
       "      <td>81</td>\n",
       "      <td>14.06%</td>\n",
       "    </tr>\n",
       "    <tr>\n",
       "      <th>Male</th>\n",
       "      <td>484</td>\n",
       "      <td>84.03%</td>\n",
       "    </tr>\n",
       "    <tr>\n",
       "      <th>Other / Non-Disclosed</th>\n",
       "      <td>11</td>\n",
       "      <td>1.91%</td>\n",
       "    </tr>\n",
       "  </tbody>\n",
       "</table>\n",
       "</div>"
      ],
      "text/plain": [
       "                       Total Count Percentage of Players\n",
       "Female                          81                14.06%\n",
       "Male                           484                84.03%\n",
       "Other / Non-Disclosed           11                 1.91%"
      ]
     },
     "execution_count": 231,
     "metadata": {},
     "output_type": "execute_result"
    }
   ],
   "source": [
    "#gender dataframe\n",
    "gender_grouped_df = purchase_data_df.groupby(\"Gender\")\n",
    "#display unique counts\n",
    "unique_df = gender_grouped_df.nunique()\n",
    "total_gender_grouped = unique_df[\"SN\"].sum()\n",
    "\n",
    "#displaying gender counts and percentagees\n",
    "gender_count = unique_df[\"SN\"].unique()\n",
    "percentage_display = unique_df[\"SN\"]/ total_gender_grouped\n",
    "percentage_display\n",
    "\n",
    "#formatting for percentages\n",
    "GenderDisplay = pd.DataFrame({\"Total Count\":gender_count ,\"Percentage of Players\": percentage_display})\n",
    "GenderDisplay[\"Percentage of Players\"] = GenderDisplay[\"Percentage of Players\"].map(\"{:,.2%}\".format)\n",
    "GenderDisplay.index.name = None\n",
    "GenderDisplay"
   ]
  },
  {
   "cell_type": "markdown",
   "metadata": {},
   "source": [
    "\n",
    "## Purchasing Analysis (Gender)"
   ]
  },
  {
   "cell_type": "code",
   "execution_count": 137,
   "metadata": {},
   "outputs": [
    {
     "data": {
      "text/html": [
       "<style  type=\"text/css\" >\n",
       "</style><table id=\"T_8665ef5c_d40e_11e9_9293_a0c589281df0\" ><thead>    <tr>        <th class=\"blank level0\" ></th>        <th class=\"col_heading level0 col0\" >Purchase Count</th>        <th class=\"col_heading level0 col1\" >Average Purchase Price</th>        <th class=\"col_heading level0 col2\" >Total Purchase Value</th>        <th class=\"col_heading level0 col3\" >Average Total Purchase per Person</th>    </tr></thead><tbody>\n",
       "                <tr>\n",
       "                        <th id=\"T_8665ef5c_d40e_11e9_9293_a0c589281df0level0_row0\" class=\"row_heading level0 row0\" >Female</th>\n",
       "                        <td id=\"T_8665ef5c_d40e_11e9_9293_a0c589281df0row0_col0\" class=\"data row0 col0\" >113</td>\n",
       "                        <td id=\"T_8665ef5c_d40e_11e9_9293_a0c589281df0row0_col1\" class=\"data row0 col1\" >$3.20</td>\n",
       "                        <td id=\"T_8665ef5c_d40e_11e9_9293_a0c589281df0row0_col2\" class=\"data row0 col2\" >$361.94</td>\n",
       "                        <td id=\"T_8665ef5c_d40e_11e9_9293_a0c589281df0row0_col3\" class=\"data row0 col3\" >$4.47</td>\n",
       "            </tr>\n",
       "            <tr>\n",
       "                        <th id=\"T_8665ef5c_d40e_11e9_9293_a0c589281df0level0_row1\" class=\"row_heading level0 row1\" >Male</th>\n",
       "                        <td id=\"T_8665ef5c_d40e_11e9_9293_a0c589281df0row1_col0\" class=\"data row1 col0\" >652</td>\n",
       "                        <td id=\"T_8665ef5c_d40e_11e9_9293_a0c589281df0row1_col1\" class=\"data row1 col1\" >$3.02</td>\n",
       "                        <td id=\"T_8665ef5c_d40e_11e9_9293_a0c589281df0row1_col2\" class=\"data row1 col2\" >$1,967.64</td>\n",
       "                        <td id=\"T_8665ef5c_d40e_11e9_9293_a0c589281df0row1_col3\" class=\"data row1 col3\" >$4.07</td>\n",
       "            </tr>\n",
       "            <tr>\n",
       "                        <th id=\"T_8665ef5c_d40e_11e9_9293_a0c589281df0level0_row2\" class=\"row_heading level0 row2\" >Other / Non-Disclosed</th>\n",
       "                        <td id=\"T_8665ef5c_d40e_11e9_9293_a0c589281df0row2_col0\" class=\"data row2 col0\" >15</td>\n",
       "                        <td id=\"T_8665ef5c_d40e_11e9_9293_a0c589281df0row2_col1\" class=\"data row2 col1\" >$3.35</td>\n",
       "                        <td id=\"T_8665ef5c_d40e_11e9_9293_a0c589281df0row2_col2\" class=\"data row2 col2\" >$50.19</td>\n",
       "                        <td id=\"T_8665ef5c_d40e_11e9_9293_a0c589281df0row2_col3\" class=\"data row2 col3\" >$4.56</td>\n",
       "            </tr>\n",
       "    </tbody></table>"
      ],
      "text/plain": [
       "<pandas.io.formats.style.Styler at 0x22270bfcb38>"
      ]
     },
     "execution_count": 137,
     "metadata": {},
     "output_type": "execute_result"
    }
   ],
   "source": [
    "#caluclating purchases,average price, and total purchase value\n",
    "GenderPurchase_df = gender_grouped_df[\"Purchase ID\"].count()\n",
    "AverageGender_df = gender_grouped_df[\"Price\"].mean()\n",
    "TotalGenderPurchase_df = gender_grouped_df[\"Price\"].sum()\n",
    "AverageTotalperPerson_df = TotalGenderPurchase_df / gender_count\n",
    "\n",
    "#Summary Data Frame to hold results\n",
    "GenderPurchasingAnalysis = pd.DataFrame({\n",
    "    \"Purchase Count\": GenderPurchase_df,\n",
    "    \"Average Purchase Price\": AverageGender_df,\n",
    "    \"Total Purchase Value\": TotalGenderPurchase_df,\n",
    "    \"Average Total Purchase per Person\": AverageTotalperPerson_df,  \n",
    "})\n",
    "\n",
    "#Format number values for currency amounts\n",
    "GenderPurchasingAnalysis.style.format({\"Average Purchase Price\":\"${:,.2f}\",\n",
    "                                  \"Total Purchase Value\":\"${:,.2f}\",\n",
    "                                  \"Average Total Purchase per Person\":\"${:,.2f}\"})"
   ]
  },
  {
   "cell_type": "markdown",
   "metadata": {},
   "source": [
    "## Age Demographics"
   ]
  },
  {
   "cell_type": "code",
   "execution_count": 102,
   "metadata": {},
   "outputs": [
    {
     "data": {
      "text/plain": [
       "array([20, 40, 24, 23, 22, 36, 35, 21, 30, 38, 29, 11,  7, 19, 37, 10,  8,\n",
       "       18, 27, 33, 32, 25, 12, 34, 17, 15, 13, 26, 16, 28, 31, 39, 44, 41,\n",
       "        9, 14, 42, 43, 45], dtype=int64)"
      ]
     },
     "execution_count": 102,
     "metadata": {},
     "output_type": "execute_result"
    }
   ],
   "source": [
    "#displaying ages to create proper bin\n",
    "purchase_data_df[\"Age\"].unique()"
   ]
  },
  {
   "cell_type": "code",
   "execution_count": 226,
   "metadata": {},
   "outputs": [
    {
     "data": {
      "text/html": [
       "<style  type=\"text/css\" >\n",
       "</style><table id=\"T_1badaafe_d43e_11e9_b0c0_a0c589281df0\" ><thead>    <tr>        <th class=\"blank level0\" ></th>        <th class=\"col_heading level0 col0\" >Total Count</th>        <th class=\"col_heading level0 col1\" >Percentage of Players</th>    </tr></thead><tbody>\n",
       "                <tr>\n",
       "                        <th id=\"T_1badaafe_d43e_11e9_b0c0_a0c589281df0level0_row0\" class=\"row_heading level0 row0\" ><10</th>\n",
       "                        <td id=\"T_1badaafe_d43e_11e9_b0c0_a0c589281df0row0_col0\" class=\"data row0 col0\" >17</td>\n",
       "                        <td id=\"T_1badaafe_d43e_11e9_b0c0_a0c589281df0row0_col1\" class=\"data row0 col1\" >2.95%</td>\n",
       "            </tr>\n",
       "            <tr>\n",
       "                        <th id=\"T_1badaafe_d43e_11e9_b0c0_a0c589281df0level0_row1\" class=\"row_heading level0 row1\" >10-14</th>\n",
       "                        <td id=\"T_1badaafe_d43e_11e9_b0c0_a0c589281df0row1_col0\" class=\"data row1 col0\" >22</td>\n",
       "                        <td id=\"T_1badaafe_d43e_11e9_b0c0_a0c589281df0row1_col1\" class=\"data row1 col1\" >3.82%</td>\n",
       "            </tr>\n",
       "            <tr>\n",
       "                        <th id=\"T_1badaafe_d43e_11e9_b0c0_a0c589281df0level0_row2\" class=\"row_heading level0 row2\" >15-19</th>\n",
       "                        <td id=\"T_1badaafe_d43e_11e9_b0c0_a0c589281df0row2_col0\" class=\"data row2 col0\" >107</td>\n",
       "                        <td id=\"T_1badaafe_d43e_11e9_b0c0_a0c589281df0row2_col1\" class=\"data row2 col1\" >18.58%</td>\n",
       "            </tr>\n",
       "            <tr>\n",
       "                        <th id=\"T_1badaafe_d43e_11e9_b0c0_a0c589281df0level0_row3\" class=\"row_heading level0 row3\" >20-24</th>\n",
       "                        <td id=\"T_1badaafe_d43e_11e9_b0c0_a0c589281df0row3_col0\" class=\"data row3 col0\" >258</td>\n",
       "                        <td id=\"T_1badaafe_d43e_11e9_b0c0_a0c589281df0row3_col1\" class=\"data row3 col1\" >44.79%</td>\n",
       "            </tr>\n",
       "            <tr>\n",
       "                        <th id=\"T_1badaafe_d43e_11e9_b0c0_a0c589281df0level0_row4\" class=\"row_heading level0 row4\" >25-29</th>\n",
       "                        <td id=\"T_1badaafe_d43e_11e9_b0c0_a0c589281df0row4_col0\" class=\"data row4 col0\" >77</td>\n",
       "                        <td id=\"T_1badaafe_d43e_11e9_b0c0_a0c589281df0row4_col1\" class=\"data row4 col1\" >13.37%</td>\n",
       "            </tr>\n",
       "            <tr>\n",
       "                        <th id=\"T_1badaafe_d43e_11e9_b0c0_a0c589281df0level0_row5\" class=\"row_heading level0 row5\" >30-34</th>\n",
       "                        <td id=\"T_1badaafe_d43e_11e9_b0c0_a0c589281df0row5_col0\" class=\"data row5 col0\" >52</td>\n",
       "                        <td id=\"T_1badaafe_d43e_11e9_b0c0_a0c589281df0row5_col1\" class=\"data row5 col1\" >9.03%</td>\n",
       "            </tr>\n",
       "            <tr>\n",
       "                        <th id=\"T_1badaafe_d43e_11e9_b0c0_a0c589281df0level0_row6\" class=\"row_heading level0 row6\" >35-39</th>\n",
       "                        <td id=\"T_1badaafe_d43e_11e9_b0c0_a0c589281df0row6_col0\" class=\"data row6 col0\" >31</td>\n",
       "                        <td id=\"T_1badaafe_d43e_11e9_b0c0_a0c589281df0row6_col1\" class=\"data row6 col1\" >5.38%</td>\n",
       "            </tr>\n",
       "            <tr>\n",
       "                        <th id=\"T_1badaafe_d43e_11e9_b0c0_a0c589281df0level0_row7\" class=\"row_heading level0 row7\" >40+</th>\n",
       "                        <td id=\"T_1badaafe_d43e_11e9_b0c0_a0c589281df0row7_col0\" class=\"data row7 col0\" >12</td>\n",
       "                        <td id=\"T_1badaafe_d43e_11e9_b0c0_a0c589281df0row7_col1\" class=\"data row7 col1\" >2.08%</td>\n",
       "            </tr>\n",
       "    </tbody></table>"
      ],
      "text/plain": [
       "<pandas.io.formats.style.Styler at 0x22270c5e160>"
      ]
     },
     "execution_count": 226,
     "metadata": {},
     "output_type": "execute_result"
    }
   ],
   "source": [
    "#Establishing bins for ages\n",
    "bins_age_type = [0, 9, 14, 19, 24, 29, 34, 39, 50 ]\n",
    "age_groups = [\"<10\", \"10-14\", \"15-19\", \"20-24\", \"25-29\", \"30-34\", \"35-39\", \"40+\"]\n",
    "\n",
    "#Categorizing existing players using the age bins created above\n",
    "purchase_data_df[\"Age Group\"] = pd.cut(purchase_data_df[\"Age\"], bins_age_type, labels=age_groups)\n",
    "purchase_data_df\n",
    "\n",
    "#Calculating numbers and percentages by age group\n",
    "age_grouped = purchase_data_df.groupby(\"Age Group\")\n",
    "total_count_age = age_grouped[\"SN\"].nunique()\n",
    "percentage_by_age = (total_count_age/total_Players) * 100\n",
    "\n",
    "# Create data frame with total counts and percentages and display\n",
    "age_demo = pd.DataFrame({\"Total Count\": total_count_age, \n",
    "                         \"Percentage of Players\": percentage_by_age\n",
    "                        })\n",
    "\n",
    "# Removing index column and number mapping/formatting\n",
    "age_demo.index.name = None\n",
    "age_demo.style.format({\"Percentage of Players\" : \"{:,.2f}%\"})"
   ]
  },
  {
   "cell_type": "markdown",
   "metadata": {},
   "source": [
    "## Purchasing Analysis (Age)"
   ]
  },
  {
   "cell_type": "code",
   "execution_count": 233,
   "metadata": {},
   "outputs": [
    {
     "data": {
      "text/html": [
       "<style  type=\"text/css\" >\n",
       "</style><table id=\"T_1c8f0b82_d440_11e9_a5ee_a0c589281df0\" ><thead>    <tr>        <th class=\"blank level0\" ></th>        <th class=\"col_heading level0 col0\" >Purchase Count</th>        <th class=\"col_heading level0 col1\" >Average Purchase Price</th>        <th class=\"col_heading level0 col2\" >Total Purchase Value</th>        <th class=\"col_heading level0 col3\" >Average Purchase Total per Person</th>    </tr></thead><tbody>\n",
       "                <tr>\n",
       "                        <th id=\"T_1c8f0b82_d440_11e9_a5ee_a0c589281df0level0_row0\" class=\"row_heading level0 row0\" ><10</th>\n",
       "                        <td id=\"T_1c8f0b82_d440_11e9_a5ee_a0c589281df0row0_col0\" class=\"data row0 col0\" >23</td>\n",
       "                        <td id=\"T_1c8f0b82_d440_11e9_a5ee_a0c589281df0row0_col1\" class=\"data row0 col1\" >$3.35</td>\n",
       "                        <td id=\"T_1c8f0b82_d440_11e9_a5ee_a0c589281df0row0_col2\" class=\"data row0 col2\" >$77.13</td>\n",
       "                        <td id=\"T_1c8f0b82_d440_11e9_a5ee_a0c589281df0row0_col3\" class=\"data row0 col3\" >$4.54</td>\n",
       "            </tr>\n",
       "            <tr>\n",
       "                        <th id=\"T_1c8f0b82_d440_11e9_a5ee_a0c589281df0level0_row1\" class=\"row_heading level0 row1\" >10-14</th>\n",
       "                        <td id=\"T_1c8f0b82_d440_11e9_a5ee_a0c589281df0row1_col0\" class=\"data row1 col0\" >28</td>\n",
       "                        <td id=\"T_1c8f0b82_d440_11e9_a5ee_a0c589281df0row1_col1\" class=\"data row1 col1\" >$2.96</td>\n",
       "                        <td id=\"T_1c8f0b82_d440_11e9_a5ee_a0c589281df0row1_col2\" class=\"data row1 col2\" >$82.78</td>\n",
       "                        <td id=\"T_1c8f0b82_d440_11e9_a5ee_a0c589281df0row1_col3\" class=\"data row1 col3\" >$3.76</td>\n",
       "            </tr>\n",
       "            <tr>\n",
       "                        <th id=\"T_1c8f0b82_d440_11e9_a5ee_a0c589281df0level0_row2\" class=\"row_heading level0 row2\" >15-19</th>\n",
       "                        <td id=\"T_1c8f0b82_d440_11e9_a5ee_a0c589281df0row2_col0\" class=\"data row2 col0\" >136</td>\n",
       "                        <td id=\"T_1c8f0b82_d440_11e9_a5ee_a0c589281df0row2_col1\" class=\"data row2 col1\" >$3.04</td>\n",
       "                        <td id=\"T_1c8f0b82_d440_11e9_a5ee_a0c589281df0row2_col2\" class=\"data row2 col2\" >$412.89</td>\n",
       "                        <td id=\"T_1c8f0b82_d440_11e9_a5ee_a0c589281df0row2_col3\" class=\"data row2 col3\" >$3.86</td>\n",
       "            </tr>\n",
       "            <tr>\n",
       "                        <th id=\"T_1c8f0b82_d440_11e9_a5ee_a0c589281df0level0_row3\" class=\"row_heading level0 row3\" >20-24</th>\n",
       "                        <td id=\"T_1c8f0b82_d440_11e9_a5ee_a0c589281df0row3_col0\" class=\"data row3 col0\" >365</td>\n",
       "                        <td id=\"T_1c8f0b82_d440_11e9_a5ee_a0c589281df0row3_col1\" class=\"data row3 col1\" >$3.05</td>\n",
       "                        <td id=\"T_1c8f0b82_d440_11e9_a5ee_a0c589281df0row3_col2\" class=\"data row3 col2\" >$1,114.06</td>\n",
       "                        <td id=\"T_1c8f0b82_d440_11e9_a5ee_a0c589281df0row3_col3\" class=\"data row3 col3\" >$4.32</td>\n",
       "            </tr>\n",
       "            <tr>\n",
       "                        <th id=\"T_1c8f0b82_d440_11e9_a5ee_a0c589281df0level0_row4\" class=\"row_heading level0 row4\" >25-29</th>\n",
       "                        <td id=\"T_1c8f0b82_d440_11e9_a5ee_a0c589281df0row4_col0\" class=\"data row4 col0\" >101</td>\n",
       "                        <td id=\"T_1c8f0b82_d440_11e9_a5ee_a0c589281df0row4_col1\" class=\"data row4 col1\" >$2.90</td>\n",
       "                        <td id=\"T_1c8f0b82_d440_11e9_a5ee_a0c589281df0row4_col2\" class=\"data row4 col2\" >$293.00</td>\n",
       "                        <td id=\"T_1c8f0b82_d440_11e9_a5ee_a0c589281df0row4_col3\" class=\"data row4 col3\" >$3.81</td>\n",
       "            </tr>\n",
       "            <tr>\n",
       "                        <th id=\"T_1c8f0b82_d440_11e9_a5ee_a0c589281df0level0_row5\" class=\"row_heading level0 row5\" >30-34</th>\n",
       "                        <td id=\"T_1c8f0b82_d440_11e9_a5ee_a0c589281df0row5_col0\" class=\"data row5 col0\" >73</td>\n",
       "                        <td id=\"T_1c8f0b82_d440_11e9_a5ee_a0c589281df0row5_col1\" class=\"data row5 col1\" >$2.93</td>\n",
       "                        <td id=\"T_1c8f0b82_d440_11e9_a5ee_a0c589281df0row5_col2\" class=\"data row5 col2\" >$214.00</td>\n",
       "                        <td id=\"T_1c8f0b82_d440_11e9_a5ee_a0c589281df0row5_col3\" class=\"data row5 col3\" >$4.12</td>\n",
       "            </tr>\n",
       "            <tr>\n",
       "                        <th id=\"T_1c8f0b82_d440_11e9_a5ee_a0c589281df0level0_row6\" class=\"row_heading level0 row6\" >35-39</th>\n",
       "                        <td id=\"T_1c8f0b82_d440_11e9_a5ee_a0c589281df0row6_col0\" class=\"data row6 col0\" >41</td>\n",
       "                        <td id=\"T_1c8f0b82_d440_11e9_a5ee_a0c589281df0row6_col1\" class=\"data row6 col1\" >$3.60</td>\n",
       "                        <td id=\"T_1c8f0b82_d440_11e9_a5ee_a0c589281df0row6_col2\" class=\"data row6 col2\" >$147.67</td>\n",
       "                        <td id=\"T_1c8f0b82_d440_11e9_a5ee_a0c589281df0row6_col3\" class=\"data row6 col3\" >$4.76</td>\n",
       "            </tr>\n",
       "            <tr>\n",
       "                        <th id=\"T_1c8f0b82_d440_11e9_a5ee_a0c589281df0level0_row7\" class=\"row_heading level0 row7\" >40+</th>\n",
       "                        <td id=\"T_1c8f0b82_d440_11e9_a5ee_a0c589281df0row7_col0\" class=\"data row7 col0\" >13</td>\n",
       "                        <td id=\"T_1c8f0b82_d440_11e9_a5ee_a0c589281df0row7_col1\" class=\"data row7 col1\" >$2.94</td>\n",
       "                        <td id=\"T_1c8f0b82_d440_11e9_a5ee_a0c589281df0row7_col2\" class=\"data row7 col2\" >$38.24</td>\n",
       "                        <td id=\"T_1c8f0b82_d440_11e9_a5ee_a0c589281df0row7_col3\" class=\"data row7 col3\" >$3.19</td>\n",
       "            </tr>\n",
       "    </tbody></table>"
      ],
      "text/plain": [
       "<pandas.io.formats.style.Styler at 0x22270cb8710>"
      ]
     },
     "execution_count": 233,
     "metadata": {},
     "output_type": "execute_result"
    }
   ],
   "source": [
    "# Running basic calculations to obtain purchase count, avg. purchase price etc...\n",
    "# Use previous bin data \n",
    "purchase_count_age = age_grouped[\"Purchase ID\"].count()\n",
    "avg_purchase_price_age = age_grouped[\"Price\"].mean()\n",
    "total_purchase_value = age_grouped[\"Price\"].sum()\n",
    "avg_purchase_per_person_age = total_purchase_value/total_count_age\n",
    "\n",
    "\n",
    "# Create data frame \n",
    "age_demo = pd.DataFrame({\"Purchase Count\": purchase_count_age,\n",
    "                                 \"Average Purchase Price\": avg_purchase_price_age,\n",
    "                                 \"Total Purchase Value\":total_purchase_value,\n",
    "                                 \"Average Purchase Total per Person\": avg_purchase_per_person_age})\n",
    "\n",
    "# Format/mapping with currency style\n",
    "age_demo.index.name = None\n",
    "age_demo.style.format({\"Average Purchase Price\":\"${:,.2f}\",\n",
    "                               \"Total Purchase Value\":\"${:,.2f}\",\n",
    "                               \"Average Purchase Total per Person\":\"${:,.2f}\"})"
   ]
  },
  {
   "cell_type": "markdown",
   "metadata": {},
   "source": [
    "## Top Spenders"
   ]
  },
  {
   "cell_type": "code",
   "execution_count": 198,
   "metadata": {},
   "outputs": [
    {
     "data": {
      "text/html": [
       "<style  type=\"text/css\" >\n",
       "</style><table id=\"T_9da18b46_d433_11e9_b2ed_a0c589281df0\" ><thead>    <tr>        <th class=\"blank level0\" ></th>        <th class=\"col_heading level0 col0\" >Purchase Count</th>        <th class=\"col_heading level0 col1\" >Average Purchase Price</th>        <th class=\"col_heading level0 col2\" >Total Purchase Value</th>    </tr>    <tr>        <th class=\"index_name level0\" >SN</th>        <th class=\"blank\" ></th>        <th class=\"blank\" ></th>        <th class=\"blank\" ></th>    </tr></thead><tbody>\n",
       "                <tr>\n",
       "                        <th id=\"T_9da18b46_d433_11e9_b2ed_a0c589281df0level0_row0\" class=\"row_heading level0 row0\" >Lisosia93</th>\n",
       "                        <td id=\"T_9da18b46_d433_11e9_b2ed_a0c589281df0row0_col0\" class=\"data row0 col0\" >5</td>\n",
       "                        <td id=\"T_9da18b46_d433_11e9_b2ed_a0c589281df0row0_col1\" class=\"data row0 col1\" >$3.79</td>\n",
       "                        <td id=\"T_9da18b46_d433_11e9_b2ed_a0c589281df0row0_col2\" class=\"data row0 col2\" >$18.96</td>\n",
       "            </tr>\n",
       "            <tr>\n",
       "                        <th id=\"T_9da18b46_d433_11e9_b2ed_a0c589281df0level0_row1\" class=\"row_heading level0 row1\" >Idastidru52</th>\n",
       "                        <td id=\"T_9da18b46_d433_11e9_b2ed_a0c589281df0row1_col0\" class=\"data row1 col0\" >4</td>\n",
       "                        <td id=\"T_9da18b46_d433_11e9_b2ed_a0c589281df0row1_col1\" class=\"data row1 col1\" >$3.86</td>\n",
       "                        <td id=\"T_9da18b46_d433_11e9_b2ed_a0c589281df0row1_col2\" class=\"data row1 col2\" >$15.45</td>\n",
       "            </tr>\n",
       "            <tr>\n",
       "                        <th id=\"T_9da18b46_d433_11e9_b2ed_a0c589281df0level0_row2\" class=\"row_heading level0 row2\" >Chamjask73</th>\n",
       "                        <td id=\"T_9da18b46_d433_11e9_b2ed_a0c589281df0row2_col0\" class=\"data row2 col0\" >3</td>\n",
       "                        <td id=\"T_9da18b46_d433_11e9_b2ed_a0c589281df0row2_col1\" class=\"data row2 col1\" >$4.61</td>\n",
       "                        <td id=\"T_9da18b46_d433_11e9_b2ed_a0c589281df0row2_col2\" class=\"data row2 col2\" >$13.83</td>\n",
       "            </tr>\n",
       "            <tr>\n",
       "                        <th id=\"T_9da18b46_d433_11e9_b2ed_a0c589281df0level0_row3\" class=\"row_heading level0 row3\" >Iral74</th>\n",
       "                        <td id=\"T_9da18b46_d433_11e9_b2ed_a0c589281df0row3_col0\" class=\"data row3 col0\" >4</td>\n",
       "                        <td id=\"T_9da18b46_d433_11e9_b2ed_a0c589281df0row3_col1\" class=\"data row3 col1\" >$3.40</td>\n",
       "                        <td id=\"T_9da18b46_d433_11e9_b2ed_a0c589281df0row3_col2\" class=\"data row3 col2\" >$13.62</td>\n",
       "            </tr>\n",
       "            <tr>\n",
       "                        <th id=\"T_9da18b46_d433_11e9_b2ed_a0c589281df0level0_row4\" class=\"row_heading level0 row4\" >Iskadarya95</th>\n",
       "                        <td id=\"T_9da18b46_d433_11e9_b2ed_a0c589281df0row4_col0\" class=\"data row4 col0\" >3</td>\n",
       "                        <td id=\"T_9da18b46_d433_11e9_b2ed_a0c589281df0row4_col1\" class=\"data row4 col1\" >$4.37</td>\n",
       "                        <td id=\"T_9da18b46_d433_11e9_b2ed_a0c589281df0row4_col2\" class=\"data row4 col2\" >$13.10</td>\n",
       "            </tr>\n",
       "    </tbody></table>"
      ],
      "text/plain": [
       "<pandas.io.formats.style.Styler at 0x22270c535c0>"
      ]
     },
     "execution_count": 198,
     "metadata": {},
     "output_type": "execute_result"
    }
   ],
   "source": [
    "#creating data for Purchase Count, Avg Purchase Price, and Total Purchase Value\n",
    "purchase_by_sn = purchase_data_df.groupby(\"SN\")\n",
    "purchase_by_spender = purchase_by_sn[\"Purchase ID\"].count()\n",
    "avg_purchase_by_sn = purchase_by_sn[\"Price\"].mean()\n",
    "purchase_total_sn = purchase_by_sn[\"Price\"].sum()\n",
    "\n",
    "#Creating summary data frame to hold results\n",
    "top_spenders = pd.DataFrame({\"Purchase Count\": purchase_by_spender,\n",
    "                             \"Average Purchase Price\": avg_purchase_by_sn,\n",
    "                             \"Total Purchase Value\":purchase_total_sn\n",
    "                            })\n",
    "#Sorting total purchase value in descending order\n",
    "desc_spenders = top_spenders.sort_values([\"Total Purchase Value\"], ascending=False).head()\n",
    "\n",
    "#Value formatting/mapping to show dollar signs\n",
    "desc_spenders.style.format({\"Average Purchase Price\" : \"${:,.2f}\",\n",
    "                           \"Total Purchase Value\" : \"${:,.2f}\"\n",
    "                           })"
   ]
  },
  {
   "cell_type": "markdown",
   "metadata": {},
   "source": [
    "## Most Popular Items"
   ]
  },
  {
   "cell_type": "code",
   "execution_count": 208,
   "metadata": {},
   "outputs": [
    {
     "data": {
      "text/html": [
       "<style  type=\"text/css\" >\n",
       "</style><table id=\"T_95e6ac7e_d439_11e9_8103_a0c589281df0\" ><thead>    <tr>        <th class=\"blank\" ></th>        <th class=\"blank level0\" ></th>        <th class=\"col_heading level0 col0\" >Purchase Count</th>        <th class=\"col_heading level0 col1\" >Item Price</th>        <th class=\"col_heading level0 col2\" >Total Purchase Value</th>    </tr>    <tr>        <th class=\"index_name level0\" >Item ID</th>        <th class=\"index_name level1\" >Item Name</th>        <th class=\"blank\" ></th>        <th class=\"blank\" ></th>        <th class=\"blank\" ></th>    </tr></thead><tbody>\n",
       "                <tr>\n",
       "                        <th id=\"T_95e6ac7e_d439_11e9_8103_a0c589281df0level0_row0\" class=\"row_heading level0 row0\" >178</th>\n",
       "                        <th id=\"T_95e6ac7e_d439_11e9_8103_a0c589281df0level1_row0\" class=\"row_heading level1 row0\" >Oathbreaker, Last Hope of the Breaking Storm</th>\n",
       "                        <td id=\"T_95e6ac7e_d439_11e9_8103_a0c589281df0row0_col0\" class=\"data row0 col0\" >12</td>\n",
       "                        <td id=\"T_95e6ac7e_d439_11e9_8103_a0c589281df0row0_col1\" class=\"data row0 col1\" >$4.23</td>\n",
       "                        <td id=\"T_95e6ac7e_d439_11e9_8103_a0c589281df0row0_col2\" class=\"data row0 col2\" >$50.76</td>\n",
       "            </tr>\n",
       "            <tr>\n",
       "                        <th id=\"T_95e6ac7e_d439_11e9_8103_a0c589281df0level0_row1\" class=\"row_heading level0 row1\" >145</th>\n",
       "                        <th id=\"T_95e6ac7e_d439_11e9_8103_a0c589281df0level1_row1\" class=\"row_heading level1 row1\" >Fiery Glass Crusader</th>\n",
       "                        <td id=\"T_95e6ac7e_d439_11e9_8103_a0c589281df0row1_col0\" class=\"data row1 col0\" >9</td>\n",
       "                        <td id=\"T_95e6ac7e_d439_11e9_8103_a0c589281df0row1_col1\" class=\"data row1 col1\" >$4.58</td>\n",
       "                        <td id=\"T_95e6ac7e_d439_11e9_8103_a0c589281df0row1_col2\" class=\"data row1 col2\" >$41.22</td>\n",
       "            </tr>\n",
       "            <tr>\n",
       "                        <th id=\"T_95e6ac7e_d439_11e9_8103_a0c589281df0level0_row2\" class=\"row_heading level0 row2\" >108</th>\n",
       "                        <th id=\"T_95e6ac7e_d439_11e9_8103_a0c589281df0level1_row2\" class=\"row_heading level1 row2\" >Extraction, Quickblade Of Trembling Hands</th>\n",
       "                        <td id=\"T_95e6ac7e_d439_11e9_8103_a0c589281df0row2_col0\" class=\"data row2 col0\" >9</td>\n",
       "                        <td id=\"T_95e6ac7e_d439_11e9_8103_a0c589281df0row2_col1\" class=\"data row2 col1\" >$3.53</td>\n",
       "                        <td id=\"T_95e6ac7e_d439_11e9_8103_a0c589281df0row2_col2\" class=\"data row2 col2\" >$31.77</td>\n",
       "            </tr>\n",
       "            <tr>\n",
       "                        <th id=\"T_95e6ac7e_d439_11e9_8103_a0c589281df0level0_row3\" class=\"row_heading level0 row3\" >82</th>\n",
       "                        <th id=\"T_95e6ac7e_d439_11e9_8103_a0c589281df0level1_row3\" class=\"row_heading level1 row3\" >Nirvana</th>\n",
       "                        <td id=\"T_95e6ac7e_d439_11e9_8103_a0c589281df0row3_col0\" class=\"data row3 col0\" >9</td>\n",
       "                        <td id=\"T_95e6ac7e_d439_11e9_8103_a0c589281df0row3_col1\" class=\"data row3 col1\" >$4.90</td>\n",
       "                        <td id=\"T_95e6ac7e_d439_11e9_8103_a0c589281df0row3_col2\" class=\"data row3 col2\" >$44.10</td>\n",
       "            </tr>\n",
       "            <tr>\n",
       "                        <th id=\"T_95e6ac7e_d439_11e9_8103_a0c589281df0level0_row4\" class=\"row_heading level0 row4\" >19</th>\n",
       "                        <th id=\"T_95e6ac7e_d439_11e9_8103_a0c589281df0level1_row4\" class=\"row_heading level1 row4\" >Pursuit, Cudgel of Necromancy</th>\n",
       "                        <td id=\"T_95e6ac7e_d439_11e9_8103_a0c589281df0row4_col0\" class=\"data row4 col0\" >8</td>\n",
       "                        <td id=\"T_95e6ac7e_d439_11e9_8103_a0c589281df0row4_col1\" class=\"data row4 col1\" >$1.02</td>\n",
       "                        <td id=\"T_95e6ac7e_d439_11e9_8103_a0c589281df0row4_col2\" class=\"data row4 col2\" >$8.16</td>\n",
       "            </tr>\n",
       "    </tbody></table>"
      ],
      "text/plain": [
       "<pandas.io.formats.style.Styler at 0x22270cb8ba8>"
      ]
     },
     "execution_count": 208,
     "metadata": {},
     "output_type": "execute_result"
    }
   ],
   "source": [
    "# Retrieving Item ID, Item Name, and Item Price columns\n",
    "popular_items_df = purchase_data_df[[\"Item ID\", \"Item Name\", \"Price\"]]\n",
    "\n",
    "# making group of Item ID and Item Name \n",
    "item_ID_group = popular_items_df.groupby([\"Item ID\",\"Item Name\"])\n",
    "\n",
    "# Calculations to obtain purchase count, item price and total purchase value \n",
    "purchase_counter = item_ID_group[\"Price\"].count()\n",
    "purchase_value = (item_ID_group[\"Price\"].sum()) \n",
    "item_price = purchase_value/purchase_counter\n",
    "\n",
    "# Data frame to house earlier obtained values. MPI- Most Popular Items\n",
    "MPI = pd.DataFrame({\"Purchase Count\": purchase_counter, \n",
    "                                   \"Item Price\": item_price,\n",
    "                                   \"Total Purchase Value\":purchase_value})\n",
    "\n",
    "# Formatting and clean-up\n",
    "popular_formatted = MPI.sort_values([\"Purchase Count\"], ascending=False).head()\n",
    "popular_formatted.style.format({\"Item Price\":\"${:,.2f}\",\n",
    "                                \"Total Purchase Value\":\"${:,.2f}\"})"
   ]
  },
  {
   "cell_type": "markdown",
   "metadata": {},
   "source": [
    "## Most Profitable Items"
   ]
  },
  {
   "cell_type": "code",
   "execution_count": 213,
   "metadata": {},
   "outputs": [
    {
     "data": {
      "text/html": [
       "<style  type=\"text/css\" >\n",
       "</style><table id=\"T_2329749e_d43b_11e9_ada2_a0c589281df0\" ><thead>    <tr>        <th class=\"blank\" ></th>        <th class=\"blank level0\" ></th>        <th class=\"col_heading level0 col0\" >Purchase Count</th>        <th class=\"col_heading level0 col1\" >Total Purchase Value</th>        <th class=\"col_heading level0 col2\" >Item Price</th>    </tr>    <tr>        <th class=\"index_name level0\" >Item ID</th>        <th class=\"index_name level1\" >Item Name</th>        <th class=\"blank\" ></th>        <th class=\"blank\" ></th>        <th class=\"blank\" ></th>    </tr></thead><tbody>\n",
       "                <tr>\n",
       "                        <th id=\"T_2329749e_d43b_11e9_ada2_a0c589281df0level0_row0\" class=\"row_heading level0 row0\" >178</th>\n",
       "                        <th id=\"T_2329749e_d43b_11e9_ada2_a0c589281df0level1_row0\" class=\"row_heading level1 row0\" >Oathbreaker, Last Hope of the Breaking Storm</th>\n",
       "                        <td id=\"T_2329749e_d43b_11e9_ada2_a0c589281df0row0_col0\" class=\"data row0 col0\" >12</td>\n",
       "                        <td id=\"T_2329749e_d43b_11e9_ada2_a0c589281df0row0_col1\" class=\"data row0 col1\" >$50.76</td>\n",
       "                        <td id=\"T_2329749e_d43b_11e9_ada2_a0c589281df0row0_col2\" class=\"data row0 col2\" >$4.23</td>\n",
       "            </tr>\n",
       "            <tr>\n",
       "                        <th id=\"T_2329749e_d43b_11e9_ada2_a0c589281df0level0_row1\" class=\"row_heading level0 row1\" >145</th>\n",
       "                        <th id=\"T_2329749e_d43b_11e9_ada2_a0c589281df0level1_row1\" class=\"row_heading level1 row1\" >Fiery Glass Crusader</th>\n",
       "                        <td id=\"T_2329749e_d43b_11e9_ada2_a0c589281df0row1_col0\" class=\"data row1 col0\" >9</td>\n",
       "                        <td id=\"T_2329749e_d43b_11e9_ada2_a0c589281df0row1_col1\" class=\"data row1 col1\" >$41.22</td>\n",
       "                        <td id=\"T_2329749e_d43b_11e9_ada2_a0c589281df0row1_col2\" class=\"data row1 col2\" >$4.58</td>\n",
       "            </tr>\n",
       "            <tr>\n",
       "                        <th id=\"T_2329749e_d43b_11e9_ada2_a0c589281df0level0_row2\" class=\"row_heading level0 row2\" >108</th>\n",
       "                        <th id=\"T_2329749e_d43b_11e9_ada2_a0c589281df0level1_row2\" class=\"row_heading level1 row2\" >Extraction, Quickblade Of Trembling Hands</th>\n",
       "                        <td id=\"T_2329749e_d43b_11e9_ada2_a0c589281df0row2_col0\" class=\"data row2 col0\" >9</td>\n",
       "                        <td id=\"T_2329749e_d43b_11e9_ada2_a0c589281df0row2_col1\" class=\"data row2 col1\" >$31.77</td>\n",
       "                        <td id=\"T_2329749e_d43b_11e9_ada2_a0c589281df0row2_col2\" class=\"data row2 col2\" >$3.53</td>\n",
       "            </tr>\n",
       "            <tr>\n",
       "                        <th id=\"T_2329749e_d43b_11e9_ada2_a0c589281df0level0_row3\" class=\"row_heading level0 row3\" >82</th>\n",
       "                        <th id=\"T_2329749e_d43b_11e9_ada2_a0c589281df0level1_row3\" class=\"row_heading level1 row3\" >Nirvana</th>\n",
       "                        <td id=\"T_2329749e_d43b_11e9_ada2_a0c589281df0row3_col0\" class=\"data row3 col0\" >9</td>\n",
       "                        <td id=\"T_2329749e_d43b_11e9_ada2_a0c589281df0row3_col1\" class=\"data row3 col1\" >$44.10</td>\n",
       "                        <td id=\"T_2329749e_d43b_11e9_ada2_a0c589281df0row3_col2\" class=\"data row3 col2\" >$4.90</td>\n",
       "            </tr>\n",
       "            <tr>\n",
       "                        <th id=\"T_2329749e_d43b_11e9_ada2_a0c589281df0level0_row4\" class=\"row_heading level0 row4\" >19</th>\n",
       "                        <th id=\"T_2329749e_d43b_11e9_ada2_a0c589281df0level1_row4\" class=\"row_heading level1 row4\" >Pursuit, Cudgel of Necromancy</th>\n",
       "                        <td id=\"T_2329749e_d43b_11e9_ada2_a0c589281df0row4_col0\" class=\"data row4 col0\" >8</td>\n",
       "                        <td id=\"T_2329749e_d43b_11e9_ada2_a0c589281df0row4_col1\" class=\"data row4 col1\" >$8.16</td>\n",
       "                        <td id=\"T_2329749e_d43b_11e9_ada2_a0c589281df0row4_col2\" class=\"data row4 col2\" >$1.02</td>\n",
       "            </tr>\n",
       "    </tbody></table>"
      ],
      "text/plain": [
       "<pandas.io.formats.style.Styler at 0x22270ca99e8>"
      ]
     },
     "execution_count": 213,
     "metadata": {},
     "output_type": "execute_result"
    }
   ],
   "source": [
    "# Use previous data frame to set table structure\n",
    "Most_Profit = pd.DataFrame({\"Purchase Count\": purchase_counter,\n",
    "                            \"Total Purchase Value\":purchase_value, \n",
    "                            \"Item Price\": item_price\n",
    "                                  })\n",
    "\n",
    "# Formatting for currency\n",
    "Most_profit_formatted = Most_Profit.sort_values([\"Purchase Count\"], ascending=False).head()\n",
    "Most_profit_formatted.style.format({\"Item Price\":\"${:,.2f}\",\n",
    "                                \"Total Purchase Value\":\"${:,.2f}\"})"
   ]
  }
 ],
 "metadata": {
  "anaconda-cloud": {},
  "kernel_info": {
   "name": "python3"
  },
  "kernelspec": {
   "display_name": "Python 3",
   "language": "python",
   "name": "python3"
  },
  "language_info": {
   "codemirror_mode": {
    "name": "ipython",
    "version": 3
   },
   "file_extension": ".py",
   "mimetype": "text/x-python",
   "name": "python",
   "nbconvert_exporter": "python",
   "pygments_lexer": "ipython3",
   "version": "3.7.3"
  },
  "nteract": {
   "version": "0.2.0"
  }
 },
 "nbformat": 4,
 "nbformat_minor": 2
}
